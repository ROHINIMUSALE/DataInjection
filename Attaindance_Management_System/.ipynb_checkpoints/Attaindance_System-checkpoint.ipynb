{
 "cells": [
  {
   "cell_type": "code",
   "execution_count": 1,
   "metadata": {},
   "outputs": [
    {
     "name": "stdout",
     "output_type": "stream",
     "text": [
      "Enter the no of records you want to insert.10\n",
      "0 Records Inserted.\n",
      "1 Records Inserted.\n",
      "2 Records Inserted.\n",
      "3 Records Inserted.\n",
      "4 Records Inserted.\n",
      "5 Records Inserted.\n",
      "6 Records Inserted.\n",
      "7 Records Inserted.\n",
      "8 Records Inserted.\n",
      "9 Records Inserted.\n"
     ]
    }
   ],
   "source": [
    "# -*- coding: utf-8 -*-\n",
    "\"\"\"\n",
    "Created on Fri Wed 5 02:20:22 2020\n",
    "Project : Realistics Data Generation For Attaindance Management System Project To Do Load Test\n",
    "@author: Rohini Musale\n",
    "\n",
    "\"\"\"\n",
    "\n",
    "from faker import Faker\n",
    "from pymysql import connect\n",
    "from pymysql import cursors\n",
    "from pymysql.cursors import DictCursor\n",
    "from datetime import datetime\n",
    "from datetime import timedelta \n",
    "from datetime import date\n",
    "from random import choice, randint\n",
    "import pandas as pd\n",
    "import numpy as np\n",
    "\n",
    "\n",
    "fake = Faker('en_IN')\n",
    "\n",
    "host = '192.168.0.158'\n",
    "user_db = 'root'\n",
    "password_db = 'Novi1234'\n",
    "db = 'attendance'\n",
    "rows = input('Enter the no of records you want to insert.')\n",
    "\n",
    "def phone_number(n):\n",
    "    range_start = 10**(n-1)\n",
    "    range_end = (10**n)-1\n",
    "    return randint(range_start, range_end)\n",
    "\n",
    "def get_id():\n",
    "    \n",
    "    try:\n",
    "        connection = connect(host= host, user= user_db, password=password_db, db= db) \n",
    "        cursor = connection.cursor(DictCursor)\n",
    "        sql_getid = \"SELECT `id` FROM `employee`\"\n",
    "        cursor.execute(sql_getid)\n",
    "        result = cursor.fetchall()\n",
    "        connection.commit()\n",
    "        return choice(result[:30])\n",
    "        \n",
    "    except:\n",
    "        None \n",
    "\n",
    "def users():\n",
    "    name = fake.first_name()\n",
    "    username = name + \"@gmail.com\"\n",
    "    password = name + str(phone_number(5))\n",
    "    firstname = name \n",
    "    lastname = fake.last_name()\n",
    "\n",
    "    \n",
    "    try:\n",
    "        connection = connect(host= host, user= user_db, password=password_db, db= db)\n",
    "        cursor = connection.cursor()\n",
    "        users_queery = \"INSERT INTO `users`(`username`, `password`, `firstname`, `lastname`) VALUES (%s,%s,%s,%s)\"\n",
    "        cursor.execute(users_queery,(username, password, firstname, lastname))\n",
    "        connection.commit()\n",
    "    except: \n",
    "        None\n",
    "        \n",
    "        \n",
    "def employee():\n",
    "    employee_no = \"2020-\" + str(phone_number(4))\n",
    "    firstname = fake.first_name()\n",
    "    middlename = fake.first_name()\n",
    "    lastname = fake.last_name()\n",
    "    department = fake.company()\n",
    "    position = fake.job()\n",
    "   \n",
    "    \n",
    "    try:\n",
    "        connection = connect(host= host, user= user_db, password=password_db, db= db)\n",
    "        cursor = connection.cursor()\n",
    "        employee_queery = \"INSERT INTO `employee`( `employee_no`, `firstname`, `middlename`, `lastname`, `department`, `position`) VALUES (%s,%s,%s,%s,%s,%s)\"\n",
    "        cursor.execute(employee_queery,(employee_no, firstname, middlename, lastname, department, position))\n",
    "        connection.commit()\n",
    "    except: \n",
    "        None        \n",
    "        \n",
    "        \n",
    "        \n",
    "def attendance():\n",
    "    eid = get_id()\n",
    "    employee_id = eid['id']\n",
    "    log_type = randint(1,4)\n",
    "    datetime_log = datetime.fromtimestamp(fake.date_time_between(start_date='-100d', end_date='now').timestamp())\n",
    "    date_updated = datetime.fromtimestamp(fake.date_time_between(start_date='-100d', end_date='now').timestamp())\n",
    "   \n",
    "    \n",
    "    try:\n",
    "        connection = connect(host= host, user= user_db, password=password_db, db= db)\n",
    "        cursor = connection.cursor()\n",
    "        attendance_queery = \"INSERT INTO `attendance`(`employee_id`, `log_type`, `datetime_log`, `date_updated`) VALUES (%s,%s,%s,%s)\"\n",
    "        cursor.execute(attendance_queery,(employee_id, log_type, datetime_log, date_updated))\n",
    "        connection.commit()\n",
    "    except: \n",
    "        None      \n",
    "        \n",
    "        \n",
    "for i in range(0, int(rows)):\n",
    "    print(\"{} Records Inserted.\".format(i))\n",
    "    users()\n",
    "    employee()\n",
    "    attendance()           "
   ]
  },
  {
   "cell_type": "code",
   "execution_count": 27,
   "metadata": {},
   "outputs": [],
   "source": []
  },
  {
   "cell_type": "code",
   "execution_count": 30,
   "metadata": {},
   "outputs": [],
   "source": [
    "attendance()"
   ]
  },
  {
   "cell_type": "code",
   "execution_count": 26,
   "metadata": {},
   "outputs": [
    {
     "data": {
      "text/plain": [
       "{'id': 12}"
      ]
     },
     "execution_count": 26,
     "metadata": {},
     "output_type": "execute_result"
    }
   ],
   "source": []
  },
  {
   "cell_type": "code",
   "execution_count": null,
   "metadata": {},
   "outputs": [],
   "source": []
  }
 ],
 "metadata": {
  "kernelspec": {
   "display_name": "Python 3",
   "language": "python",
   "name": "python3"
  },
  "language_info": {
   "codemirror_mode": {
    "name": "ipython",
    "version": 3
   },
   "file_extension": ".py",
   "mimetype": "text/x-python",
   "name": "python",
   "nbconvert_exporter": "python",
   "pygments_lexer": "ipython3",
   "version": "3.8.5"
  }
 },
 "nbformat": 4,
 "nbformat_minor": 4
}
