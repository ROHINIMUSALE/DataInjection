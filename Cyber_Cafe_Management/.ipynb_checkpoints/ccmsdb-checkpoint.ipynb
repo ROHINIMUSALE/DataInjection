{
 "cells": [
  {
   "cell_type": "code",
   "execution_count": null,
   "metadata": {},
   "outputs": [],
   "source": [
    "# -*- coding: utf-8 -*-\n",
    "\"\"\"\n",
    "Created on Fri Wed 5 02:20:22 2020\n",
    "Project : Realistics Data Generation For CCMSDB Project To Do Load Test\n",
    "@author: Rohini Musale\n",
    "\n",
    "\"\"\"\n",
    "\n",
    "from faker import Faker\n",
    "from pymysql import connect\n",
    "from pymysql import cursors\n",
    "from pymysql.cursors import DictCursor\n",
    "from datetime import datetime\n",
    "from datetime import timedelta \n",
    "from datetime import date\n",
    "from random import choice, randint\n",
    "import pandas as pd\n",
    "import numpy as np\n",
    "\n",
    "\n",
    "fake = Faker('en_IN')\n",
    "\n",
    "host = '192.168.0.158'\n",
    "user_db = 'root'\n",
    "password_db = 'Novi1234'\n",
    "db = 'ccmsdb'\n",
    "rows = input('Enter the no of records you want to insert.')\n",
    "\n",
    "def phone_number(n):\n",
    "    range_start = 10**(n-1)\n",
    "    range_end = (10**n)-1\n",
    "    return randint(range_start, range_end)\n",
    "\n",
    "\n",
    "def tblusers():\n",
    "    EntryID = phone_number(9)\n",
    "    UserName = fake.first_name() \n",
    "    UserAddress = fake.address()\n",
    "    MobileNumber = phone_number(10)\n",
    "    Email = UserName + \"@gmail.com\"\n",
    "    ComputerName = choice(['Dell', 'ASUS', 'lenvo', 'HP', 'Acer'])\n",
    "    IDProof = phone_number(9)\n",
    "    InTime = datetime.fromtimestamp(fake.date_time_between(start_date='-100d', end_date='now').timestamp())\n",
    "    OutTime = InTime\n",
    "    Fees = randint(20,100)\n",
    "    Remark = choice(['Ok', 'Check Out'])\n",
    "    Status = choice(['In', 'Out'])\n",
    "    UpdationDate = InTime\n",
    "\n",
    "    try:\n",
    "        connection = connect(host= host, user= user_db, password=password_db, db= db)\n",
    "        cursor = connection.cursor()\n",
    "        tblusers_queery = \"INSERT INTO `tblusers`(`EntryID`, `UserName`, `UserAddress`, `MobileNumber`, `Email`, `ComputerName`, `IDProof`, `InTime`, `OutTime`, `Fees`, `Remark`, `Status`, `UpdationDate`) VALUES (%s,%s,%s,%s,%s,%s,%s,%s,%s,%s,%s,%s,%s)\"\n",
    "        cursor.execute(tblusers_queery,(EntryID, UserName, UserAddress, MobileNumber, Email, ComputerName, IDProof, InTime, OutTime, Fees, Remark, Status, UpdationDate))\n",
    "        connection.commit()\n",
    "    except: \n",
    "        None\n",
    "        \n",
    "        \n",
    "def tblcomputers():\n",
    "    ComputerName = choice(['Dell', 'ASUS', 'lenvo', 'HP', 'Acer'])\n",
    "    ComputerLocation = \"Cabin\" + str(phone_number(3))\n",
    "    IPAdd = \"127.0.0.\" + str(phone_number(4))\n",
    "    EntryDate = datetime.fromtimestamp(fake.date_time_between(start_date='-100d', end_date='now').timestamp())\n",
    "\n",
    "    try:\n",
    "        connection = connect(host= host, user= user_db, password=password_db, db= db)\n",
    "        cursor = connection.cursor()\n",
    "        tblcomputers_queery = \"INSERT INTO `tblcomputers`(`ComputerName`, `ComputerLocation`, `IPAdd`, `EntryDate`) VALUES (%s,%s,%s,%s)\"\n",
    "        cursor.execute(tblcomputers_queery,(ComputerName, ComputerLocation, IPAdd, EntryDate))\n",
    "        connection.commit()\n",
    "    except: \n",
    "        None   \n",
    "        \n",
    "        \n",
    "        \n",
    "for i in range(0, int(rows)):\n",
    "    print(\"{} Records Inserted.\".format(i))\n",
    "    tblcomputers()      \n",
    "    tblusers()"
   ]
  },
  {
   "cell_type": "code",
   "execution_count": 32,
   "metadata": {},
   "outputs": [],
   "source": []
  },
  {
   "cell_type": "code",
   "execution_count": 36,
   "metadata": {},
   "outputs": [],
   "source": [
    "tblcomputers()"
   ]
  },
  {
   "cell_type": "code",
   "execution_count": 22,
   "metadata": {},
   "outputs": [
    {
     "name": "stdout",
     "output_type": "stream",
     "text": [
      "2020-10-23 10:20:05\n"
     ]
    }
   ],
   "source": [
    "print(datetime.fromtimestamp(fake.date_time_between(start_date='-100d', end_date='now').timestamp()))"
   ]
  },
  {
   "cell_type": "code",
   "execution_count": null,
   "metadata": {},
   "outputs": [],
   "source": []
  }
 ],
 "metadata": {
  "kernelspec": {
   "display_name": "Python 3",
   "language": "python",
   "name": "python3"
  },
  "language_info": {
   "codemirror_mode": {
    "name": "ipython",
    "version": 3
   },
   "file_extension": ".py",
   "mimetype": "text/x-python",
   "name": "python",
   "nbconvert_exporter": "python",
   "pygments_lexer": "ipython3",
   "version": "3.8.5"
  }
 },
 "nbformat": 4,
 "nbformat_minor": 4
}
